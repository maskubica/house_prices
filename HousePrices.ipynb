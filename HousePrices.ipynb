{
  "nbformat": 4,
  "nbformat_minor": 0,
  "metadata": {
    "colab": {
      "name": "HousePrices.ipynb",
      "provenance": [],
      "authorship_tag": "ABX9TyPKYACHizmBTd4trhjratJm",
      "include_colab_link": true
    },
    "kernelspec": {
      "name": "python3",
      "display_name": "Python 3"
    }
  },
  "cells": [
    {
      "cell_type": "markdown",
      "metadata": {
        "id": "view-in-github",
        "colab_type": "text"
      },
      "source": [
        "<a href=\"https://colab.research.google.com/github/maskubica/house_prices/blob/master/HousePrices.ipynb\" target=\"_parent\"><img src=\"https://colab.research.google.com/assets/colab-badge.svg\" alt=\"Open In Colab\"/></a>"
      ]
    },
    {
      "cell_type": "code",
      "metadata": {
        "id": "6XzEiTaidw86",
        "colab_type": "code",
        "colab": {}
      },
      "source": [
        "!echo '{\"username\":\"kamikaze95\",\"key\":\"0c786ccd282e827a3e2847661ef34b92\"}' > /root/.kaggle/kaggle.json\n",
        "\n",
        "!kaggle competitions download -c house-prices-advanced-regression-techniques\n",
        "!ls\n",
        "\n"
      ],
      "execution_count": null,
      "outputs": []
    },
    {
      "cell_type": "code",
      "metadata": {
        "id": "Attp3G037cD1",
        "colab_type": "code",
        "colab": {}
      },
      "source": [
        "import pandas as pd \n",
        "import matplotlib.pyplot as plt\n",
        "\n",
        "\n",
        "train = pd.read_csv('train.csv')\n",
        "test = pd.read_csv('test.csv')\n",
        "\n",
        "\n",
        "columns_na = train.columns[train.isna().any(axis=0)]\n",
        "\n",
        "#plt.hist(train[columns_na[0]])\n",
        "\n",
        "for col in columns_na:\n",
        "  print(f\"{col} \\t {sum(train[col].isna())/ train[col].shape[0]*100} %\")\n",
        "\n",
        "train['LotFrontage']"
      ],
      "execution_count": null,
      "outputs": []
    },
    {
      "cell_type": "code",
      "metadata": {
        "id": "Ts6A0qPS7dgd",
        "colab_type": "code",
        "colab": {}
      },
      "source": [
        "from sklearn.pipeline import Pipeline\n",
        "from sklearn.impute import SimpleImputer\n",
        "from sklearn.preprocessing import StandardScaler, OneHotEncoder\n",
        "from sklearn.compose import ColumnTransformer\n",
        "\n",
        "\n",
        "numeric_transformer = Pipeline(steps=[\n",
        "    ('imputer', SimpleImputer(strategy='median')),\n",
        "    ('scaler', StandardScaler())])\n",
        "\n",
        "categorical_transformer = Pipeline(steps=[\n",
        "    ('imputer', SimpleImputer(strategy='constant', fill_value='missing')),\n",
        "    ('onehot', OneHotEncoder(handle_unknown='ignore'))])\n",
        "\n",
        "\n",
        "categorical_features = train.select_dtypes(include=['object']).dropna(axis=1).columns\n",
        "categorical_features"
      ],
      "execution_count": null,
      "outputs": []
    },
    {
      "cell_type": "code",
      "metadata": {
        "id": "cfUt4EZk7fj7",
        "colab_type": "code",
        "colab": {}
      },
      "source": [
        "from sklearn.ensemble import GradientBoostingClassifier\n",
        "from sklearn.model_selection import train_test_split\n",
        "\n",
        "X = train.dropna(axis=1).drop(['SalePrice', 'Id'], axis=1)\n",
        "y = train['SalePrice']\n",
        "\n",
        "X_train, X_test, y_train, y_test = train_test_split(X, y, random_state=0)\n",
        "\n",
        "\n",
        "categorical_transformer = Pipeline(steps=[\n",
        "    ('onehot', OneHotEncoder(handle_unknown='ignore'))\n",
        "    ])\n",
        "\n",
        "preprocessor = ColumnTransformer(\n",
        "    transformers=[\n",
        "        ('cat', categorical_transformer, categorical_features)]\n",
        "        )\n",
        "\n",
        "xgb = Pipeline(steps=[('preprocessor', preprocessor),\n",
        "                      ('classifier', GradientBoostingClassifier())])\n",
        "\n",
        "\n",
        "\n",
        "xgb.fit(X_train, y_train)\n",
        "#clf.predict(X_test[:2])\n",
        "#array([1, 0])\n",
        "#clf.score(X_test, y_test)\n"
      ],
      "execution_count": null,
      "outputs": []
    }
  ]
}